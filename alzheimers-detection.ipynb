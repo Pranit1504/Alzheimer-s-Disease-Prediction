{
 "cells": [
  {
   "cell_type": "code",
   "execution_count": 1,
   "metadata": {},
   "outputs": [],
   "source": [
    "import numpy as np \n",
    "import pandas as pd \n",
    "import os\n",
    "import tensorflow as tf\n",
    "from tensorflow.keras.layers.experimental.preprocessing import Rescaling, RandomZoom, RandomFlip, RandomRotation\n",
    "from sklearn.model_selection import train_test_split\n",
    "import os\n",
    "from distutils.dir_util import copy_tree, remove_tree\n",
    "from imblearn.over_sampling import SMOTE\n",
    "from sklearn.model_selection import train_test_split"
   ]
  },
  {
   "cell_type": "code",
   "execution_count": 3,
   "metadata": {},
   "outputs": [
    {
     "name": "stdout",
     "output_type": "stream",
     "text": [
      "Working Directory Contents: ['MildDemented', 'ModerateDemented', 'NonDemented', 'VeryMildDemented']\n"
     ]
    }
   ],
   "source": [
    "base_dir = \"dataset2/\"\n",
    "root_dir = \"./\"\n",
    "test_dir = base_dir + \"test/\"\n",
    "train_dir = base_dir + \"train/\"\n",
    "work_dir = root_dir + \"dataset/\"\n",
    "\n",
    "if os.path.exists(work_dir):\n",
    "    remove_tree(work_dir)\n",
    "    \n",
    "\n",
    "os.mkdir(work_dir)\n",
    "copy_tree(train_dir, work_dir)\n",
    "copy_tree(test_dir, work_dir)\n",
    "print(\"Working Directory Contents:\", os.listdir(work_dir))\n",
    "\n",
    "WORK_DIR = './dataset/'\n"
   ]
  },
  {
   "cell_type": "code",
   "execution_count": 4,
   "metadata": {},
   "outputs": [
    {
     "data": {
      "text/plain": [
       "['MildDemented', 'ModerateDemented', 'NonDemented', 'VeryMildDemented']"
      ]
     },
     "execution_count": 4,
     "metadata": {},
     "output_type": "execute_result"
    }
   ],
   "source": [
    "os.listdir(WORK_DIR)\n"
   ]
  },
  {
   "cell_type": "code",
   "execution_count": 5,
   "metadata": {},
   "outputs": [
    {
     "name": "stdout",
     "output_type": "stream",
     "text": [
      "Number of replicas: 1\n",
      "2.13.0\n"
     ]
    }
   ],
   "source": [
    "try:\n",
    "    tpu = tf.distribute.cluster_resolver.TPUClusterResolver()\n",
    "    print('Device:', tpu.master())\n",
    "    tf.config.experimental_connect_to_cluster(tpu)\n",
    "    tf.tpu.experimental.initialize_tpu_system(tpu)\n",
    "    strategy = tf.distribute.experimental.TPUStrategy(tpu)\n",
    "except:\n",
    "    strategy = tf.distribute.get_strategy()\n",
    "print('Number of replicas:', strategy.num_replicas_in_sync)\n",
    "    \n",
    "print(tf.__version__)"
   ]
  },
  {
   "cell_type": "code",
   "execution_count": 6,
   "metadata": {},
   "outputs": [],
   "source": [
    "# Constants\n",
    "IMG_SIZE = 176\n",
    "IMAGE_SIZE = [176, 176]\n",
    "DIM = (IMG_SIZE, IMG_SIZE)\n"
   ]
  },
  {
   "cell_type": "code",
   "execution_count": 7,
   "metadata": {},
   "outputs": [],
   "source": [
    "# Create the data augmentation pipeline\n",
    "data_augmentation = tf.keras.Sequential([\n",
    "    Rescaling(1./255),\n",
    "    RandomZoom(0.2),\n",
    "    RandomFlip(\"horizontal\"),\n",
    "    RandomRotation(0.2)\n",
    "])"
   ]
  },
  {
   "cell_type": "code",
   "execution_count": 8,
   "metadata": {},
   "outputs": [
    {
     "name": "stdout",
     "output_type": "stream",
     "text": [
      "Found 6400 files belonging to 4 classes.\n"
     ]
    }
   ],
   "source": [
    "# Load images and apply data augmentation\n",
    "train_data_gen = tf.keras.preprocessing.image_dataset_from_directory(\n",
    "    directory=WORK_DIR,\n",
    "    image_size=DIM,\n",
    "    batch_size=64,\n",
    "    shuffle=False,\n",
    "    seed=42,\n",
    "    validation_split=None,\n",
    "    subset=None,\n",
    "    labels=\"inferred\"\n",
    ")"
   ]
  },
  {
   "cell_type": "code",
   "execution_count": 9,
   "metadata": {},
   "outputs": [],
   "source": [
    "train_data_augmented = train_data_gen.map(lambda x, y: (data_augmentation(x, training=True), y))"
   ]
  },
  {
   "cell_type": "code",
   "execution_count": 10,
   "metadata": {},
   "outputs": [],
   "source": [
    "train_data = []\n",
    "train_labels = []\n",
    "\n",
    "for data, labels in train_data_augmented:\n",
    "    train_data.append(data)\n",
    "    train_labels.append(labels)\n",
    "\n",
    "train_data = tf.concat(train_data, axis=0)\n",
    "train_labels = tf.concat(train_labels, axis=0)"
   ]
  },
  {
   "cell_type": "code",
   "execution_count": 11,
   "metadata": {},
   "outputs": [
    {
     "name": "stdout",
     "output_type": "stream",
     "text": [
      "tf.Tensor([0 0 0 ... 3 3 3], shape=(6400,), dtype=int32)\n"
     ]
    }
   ],
   "source": [
    "# print(train_data)\n",
    "print(train_labels)"
   ]
  },
  {
   "cell_type": "code",
   "execution_count": 12,
   "metadata": {},
   "outputs": [],
   "source": [
    "num_samples = train_data.shape[0]\n",
    "train_data_2d = tf.reshape(train_data, (num_samples, -1))\n"
   ]
  },
  {
   "cell_type": "code",
   "execution_count": 13,
   "metadata": {},
   "outputs": [
    {
     "name": "stdout",
     "output_type": "stream",
     "text": [
      "tf.Tensor(\n",
      "[[0.         0.         0.         ... 0.         0.         0.        ]\n",
      " [0.32502887 0.32502887 0.32502887 ... 0.53339463 0.53339463 0.53339463]\n",
      " [0.26156783 0.26156783 0.26156783 ... 0.0093731  0.0093731  0.0093731 ]\n",
      " ...\n",
      " [0.76373917 0.76373917 0.76373917 ... 0.5603532  0.5603532  0.5603532 ]\n",
      " [0.5240616  0.5240616  0.5240616  ... 0.52503836 0.52503836 0.52503836]\n",
      " [0.17518309 0.17518309 0.17518309 ... 0.16632201 0.16632201 0.16632201]], shape=(6400, 92928), dtype=float32)\n"
     ]
    }
   ],
   "source": [
    "print(train_data_2d)"
   ]
  },
  {
   "cell_type": "code",
   "execution_count": 14,
   "metadata": {},
   "outputs": [],
   "source": [
    "#  perform over-sampling using the Synthetic Minority Over-sampling Technique for Image Data (SMOTE-IMG)\n",
    "smote_img = SMOTE(sampling_strategy='minority')"
   ]
  },
  {
   "cell_type": "code",
   "execution_count": 15,
   "metadata": {},
   "outputs": [],
   "source": [
    "train_data_resampled, train_labels_resampled = smote_img.fit_resample(train_data_2d, train_labels)\n",
    "# Reshape train_data_resampled back to 4D  //4D -> Batch Size , Height , Width , Color Channels\n",
    "train_data_resampled = train_data_resampled.reshape(-1, IMG_SIZE, IMG_SIZE, 3)"
   ]
  },
  {
   "cell_type": "code",
   "execution_count": 64,
   "metadata": {},
   "outputs": [
    {
     "name": "stdout",
     "output_type": "stream",
     "text": [
      "[[[[3.26963793e-03 3.26963793e-03 3.26963793e-03]\n",
      "   [3.13549157e-04 3.13549157e-04 3.13549157e-04]\n",
      "   [0.00000000e+00 0.00000000e+00 0.00000000e+00]\n",
      "   ...\n",
      "   [7.08177919e-03 7.08177919e-03 7.08177919e-03]\n",
      "   [2.35187635e-03 2.35187635e-03 2.35187635e-03]\n",
      "   [0.00000000e+00 0.00000000e+00 0.00000000e+00]]\n",
      "\n",
      "  [[4.26604412e-03 4.26604412e-03 4.26604412e-03]\n",
      "   [1.80071278e-04 1.80071278e-04 1.80071278e-04]\n",
      "   [0.00000000e+00 0.00000000e+00 0.00000000e+00]\n",
      "   ...\n",
      "   [2.58336263e-03 2.58336263e-03 2.58336263e-03]\n",
      "   [9.43016494e-04 9.43016494e-04 9.43016494e-04]\n",
      "   [0.00000000e+00 0.00000000e+00 0.00000000e+00]]\n",
      "\n",
      "  [[4.98797512e-03 4.98797512e-03 4.98797512e-03]\n",
      "   [5.02268260e-04 5.02268260e-04 5.02268260e-04]\n",
      "   [2.07132951e-04 2.07132951e-04 2.07132951e-04]\n",
      "   ...\n",
      "   [6.77421049e-04 6.77421049e-04 6.77421049e-04]\n",
      "   [8.91508025e-05 8.91508025e-05 8.91508025e-05]\n",
      "   [0.00000000e+00 0.00000000e+00 0.00000000e+00]]\n",
      "\n",
      "  ...\n",
      "\n",
      "  [[0.00000000e+00 0.00000000e+00 0.00000000e+00]\n",
      "   [1.35093986e-04 1.35093986e-04 1.35093986e-04]\n",
      "   [6.69051311e-04 6.69051311e-04 6.69051311e-04]\n",
      "   ...\n",
      "   [0.00000000e+00 0.00000000e+00 0.00000000e+00]\n",
      "   [7.20326352e-05 7.20326352e-05 7.20326352e-05]\n",
      "   [1.39323506e-03 1.39323506e-03 1.39323506e-03]]\n",
      "\n",
      "  [[0.00000000e+00 0.00000000e+00 0.00000000e+00]\n",
      "   [4.90458624e-04 4.90458624e-04 4.90458624e-04]\n",
      "   [1.71799120e-03 1.71799120e-03 1.71799120e-03]\n",
      "   ...\n",
      "   [0.00000000e+00 0.00000000e+00 0.00000000e+00]\n",
      "   [1.44570266e-04 1.44570266e-04 1.44570266e-04]\n",
      "   [2.24232418e-03 2.24232418e-03 2.24232418e-03]]\n",
      "\n",
      "  [[0.00000000e+00 0.00000000e+00 0.00000000e+00]\n",
      "   [4.34368703e-04 4.34368703e-04 4.34368703e-04]\n",
      "   [2.21013743e-03 2.21013743e-03 2.21013743e-03]\n",
      "   ...\n",
      "   [0.00000000e+00 0.00000000e+00 0.00000000e+00]\n",
      "   [2.56456580e-04 2.56456580e-04 2.56456580e-04]\n",
      "   [4.52436041e-03 4.52436041e-03 4.52436041e-03]]]\n",
      "\n",
      "\n",
      " [[[8.61792922e-01 8.61792922e-01 8.61792922e-01]\n",
      "   [8.41999531e-01 8.41999531e-01 8.41999531e-01]\n",
      "   [7.89613128e-01 7.89613128e-01 7.89613128e-01]\n",
      "   ...\n",
      "   [7.62320697e-01 7.62320697e-01 7.62320697e-01]\n",
      "   [6.95242882e-01 6.95242882e-01 6.95242882e-01]\n",
      "   [6.32898569e-01 6.32898569e-01 6.32898569e-01]]\n",
      "\n",
      "  [[8.68288040e-01 8.68288040e-01 8.68288040e-01]\n",
      "   [8.55124116e-01 8.55124116e-01 8.55124116e-01]\n",
      "   [7.93470144e-01 7.93470144e-01 7.93470144e-01]\n",
      "   ...\n",
      "   [7.28304505e-01 7.28304505e-01 7.28304505e-01]\n",
      "   [6.58757687e-01 6.58757687e-01 6.58757687e-01]\n",
      "   [6.00277245e-01 6.00277245e-01 6.00277245e-01]]\n",
      "\n",
      "  [[8.78244162e-01 8.78244162e-01 8.78244162e-01]\n",
      "   [8.67007256e-01 8.67007256e-01 8.67007256e-01]\n",
      "   [7.96187639e-01 7.96187639e-01 7.96187639e-01]\n",
      "   ...\n",
      "   [6.51199222e-01 6.51199222e-01 6.51199222e-01]\n",
      "   [6.10949337e-01 6.10949337e-01 6.10949337e-01]\n",
      "   [5.83040953e-01 5.83040953e-01 5.83040953e-01]]\n",
      "\n",
      "  ...\n",
      "\n",
      "  [[1.59708947e-01 1.59708947e-01 1.59708947e-01]\n",
      "   [1.45859510e-01 1.45859510e-01 1.45859510e-01]\n",
      "   [1.44029096e-01 1.44029096e-01 1.44029096e-01]\n",
      "   ...\n",
      "   [3.57301623e-01 3.57301623e-01 3.57301623e-01]\n",
      "   [3.48872602e-01 3.48872602e-01 3.48872602e-01]\n",
      "   [2.91234940e-01 2.91234940e-01 2.91234940e-01]]\n",
      "\n",
      "  [[1.84416264e-01 1.84416264e-01 1.84416264e-01]\n",
      "   [1.51279509e-01 1.51279509e-01 1.51279509e-01]\n",
      "   [1.37783423e-01 1.37783423e-01 1.37783423e-01]\n",
      "   ...\n",
      "   [4.08919334e-01 4.08919334e-01 4.08919334e-01]\n",
      "   [2.66945362e-01 2.66945362e-01 2.66945362e-01]\n",
      "   [2.49375522e-01 2.49375522e-01 2.49375522e-01]]\n",
      "\n",
      "  [[1.95621938e-01 1.95621938e-01 1.95621938e-01]\n",
      "   [1.65458784e-01 1.65458784e-01 1.65458784e-01]\n",
      "   [1.44299060e-01 1.44299060e-01 1.44299060e-01]\n",
      "   ...\n",
      "   [3.31616729e-01 3.31616729e-01 3.31616729e-01]\n",
      "   [2.83819020e-01 2.83819020e-01 2.83819020e-01]\n",
      "   [2.84428954e-01 2.84428954e-01 2.84428954e-01]]]\n",
      "\n",
      "\n",
      " [[[7.81067647e-05 7.81067647e-05 7.81067647e-05]\n",
      "   [0.00000000e+00 0.00000000e+00 0.00000000e+00]\n",
      "   [0.00000000e+00 0.00000000e+00 0.00000000e+00]\n",
      "   ...\n",
      "   [1.42867602e-02 1.42867602e-02 1.42867602e-02]\n",
      "   [8.91841762e-03 8.91841762e-03 8.91841762e-03]\n",
      "   [1.94932129e-02 1.94932129e-02 1.94932129e-02]]\n",
      "\n",
      "  [[0.00000000e+00 0.00000000e+00 0.00000000e+00]\n",
      "   [0.00000000e+00 0.00000000e+00 0.00000000e+00]\n",
      "   [0.00000000e+00 0.00000000e+00 0.00000000e+00]\n",
      "   ...\n",
      "   [9.84372222e-04 9.84372222e-04 9.84372222e-04]\n",
      "   [8.70813243e-03 8.70813243e-03 8.70813243e-03]\n",
      "   [2.66800504e-02 2.66800504e-02 2.66800504e-02]]\n",
      "\n",
      "  [[0.00000000e+00 0.00000000e+00 0.00000000e+00]\n",
      "   [0.00000000e+00 0.00000000e+00 0.00000000e+00]\n",
      "   [0.00000000e+00 0.00000000e+00 0.00000000e+00]\n",
      "   ...\n",
      "   [5.95433994e-05 5.95433994e-05 5.95433994e-05]\n",
      "   [9.52518918e-03 9.52518918e-03 9.52518918e-03]\n",
      "   [2.47465800e-02 2.47465800e-02 2.47465800e-02]]\n",
      "\n",
      "  ...\n",
      "\n",
      "  [[1.21675096e-02 1.21675096e-02 1.21675096e-02]\n",
      "   [4.45396453e-03 4.45396453e-03 4.45396453e-03]\n",
      "   [5.26355725e-05 5.26355725e-05 5.26355725e-05]\n",
      "   ...\n",
      "   [0.00000000e+00 0.00000000e+00 0.00000000e+00]\n",
      "   [0.00000000e+00 0.00000000e+00 0.00000000e+00]\n",
      "   [0.00000000e+00 0.00000000e+00 0.00000000e+00]]\n",
      "\n",
      "  [[7.60736782e-03 7.60736782e-03 7.60736782e-03]\n",
      "   [6.02118438e-03 6.02118438e-03 6.02118438e-03]\n",
      "   [7.92094856e-04 7.92094856e-04 7.92094856e-04]\n",
      "   ...\n",
      "   [0.00000000e+00 0.00000000e+00 0.00000000e+00]\n",
      "   [0.00000000e+00 0.00000000e+00 0.00000000e+00]\n",
      "   [0.00000000e+00 0.00000000e+00 0.00000000e+00]]\n",
      "\n",
      "  [[1.07859867e-02 1.07859867e-02 1.07859867e-02]\n",
      "   [3.09553556e-03 3.09553556e-03 3.09553556e-03]\n",
      "   [6.27935678e-03 6.27935678e-03 6.27935678e-03]\n",
      "   ...\n",
      "   [0.00000000e+00 0.00000000e+00 0.00000000e+00]\n",
      "   [0.00000000e+00 0.00000000e+00 0.00000000e+00]\n",
      "   [1.38677901e-03 1.38677901e-03 1.38677901e-03]]]\n",
      "\n",
      "\n",
      " ...\n",
      "\n",
      "\n",
      " [[[3.20354223e-01 3.20354223e-01 3.20354223e-01]\n",
      "   [2.88750052e-01 2.88750052e-01 2.88750052e-01]\n",
      "   [2.37783730e-01 2.37783730e-01 2.37783730e-01]\n",
      "   ...\n",
      "   [2.02269092e-01 2.02269092e-01 2.02269092e-01]\n",
      "   [2.73185432e-01 2.73185432e-01 2.73185432e-01]\n",
      "   [3.33072603e-01 3.33072603e-01 3.33072603e-01]]\n",
      "\n",
      "  [[3.24241221e-01 3.24241221e-01 3.24241221e-01]\n",
      "   [2.76729137e-01 2.76729137e-01 2.76729137e-01]\n",
      "   [2.43553609e-01 2.43553609e-01 2.43553609e-01]\n",
      "   ...\n",
      "   [1.94083914e-01 1.94083914e-01 1.94083914e-01]\n",
      "   [2.69235194e-01 2.69235194e-01 2.69235194e-01]\n",
      "   [3.20903957e-01 3.20903957e-01 3.20903957e-01]]\n",
      "\n",
      "  [[3.39755118e-01 3.39755118e-01 3.39755118e-01]\n",
      "   [3.15923125e-01 3.15923125e-01 3.15923125e-01]\n",
      "   [3.06504011e-01 3.06504011e-01 3.06504011e-01]\n",
      "   ...\n",
      "   [2.05752626e-01 2.05752626e-01 2.05752626e-01]\n",
      "   [2.59332985e-01 2.59332985e-01 2.59332985e-01]\n",
      "   [3.10024023e-01 3.10024023e-01 3.10024023e-01]]\n",
      "\n",
      "  ...\n",
      "\n",
      "  [[1.88263386e-01 1.88263386e-01 1.88263386e-01]\n",
      "   [1.17305875e-01 1.17305875e-01 1.17305875e-01]\n",
      "   [7.82149583e-02 7.82149583e-02 7.82149583e-02]\n",
      "   ...\n",
      "   [1.89247206e-01 1.89247206e-01 1.89247206e-01]\n",
      "   [2.26668000e-01 2.26668000e-01 2.26668000e-01]\n",
      "   [2.90453762e-01 2.90453762e-01 2.90453762e-01]]\n",
      "\n",
      "  [[2.15640441e-01 2.15640441e-01 2.15640441e-01]\n",
      "   [1.46213561e-01 1.46213561e-01 1.46213561e-01]\n",
      "   [9.41402614e-02 9.41402614e-02 9.41402614e-02]\n",
      "   ...\n",
      "   [1.35571584e-01 1.35571584e-01 1.35571584e-01]\n",
      "   [1.97810426e-01 1.97810426e-01 1.97810426e-01]\n",
      "   [2.78638750e-01 2.78638750e-01 2.78638750e-01]]\n",
      "\n",
      "  [[2.31468990e-01 2.31468990e-01 2.31468990e-01]\n",
      "   [1.55017227e-01 1.55017227e-01 1.55017227e-01]\n",
      "   [1.03564292e-01 1.03564292e-01 1.03564292e-01]\n",
      "   ...\n",
      "   [1.04183905e-01 1.04183905e-01 1.04183905e-01]\n",
      "   [1.50783136e-01 1.50783136e-01 1.50783136e-01]\n",
      "   [2.77539492e-01 2.77539492e-01 2.77539492e-01]]]\n",
      "\n",
      "\n",
      " [[[0.00000000e+00 0.00000000e+00 0.00000000e+00]\n",
      "   [0.00000000e+00 0.00000000e+00 0.00000000e+00]\n",
      "   [0.00000000e+00 0.00000000e+00 0.00000000e+00]\n",
      "   ...\n",
      "   [0.00000000e+00 0.00000000e+00 0.00000000e+00]\n",
      "   [0.00000000e+00 0.00000000e+00 0.00000000e+00]\n",
      "   [0.00000000e+00 0.00000000e+00 0.00000000e+00]]\n",
      "\n",
      "  [[0.00000000e+00 0.00000000e+00 0.00000000e+00]\n",
      "   [0.00000000e+00 0.00000000e+00 0.00000000e+00]\n",
      "   [0.00000000e+00 0.00000000e+00 0.00000000e+00]\n",
      "   ...\n",
      "   [0.00000000e+00 0.00000000e+00 0.00000000e+00]\n",
      "   [0.00000000e+00 0.00000000e+00 0.00000000e+00]\n",
      "   [0.00000000e+00 0.00000000e+00 0.00000000e+00]]\n",
      "\n",
      "  [[0.00000000e+00 0.00000000e+00 0.00000000e+00]\n",
      "   [0.00000000e+00 0.00000000e+00 0.00000000e+00]\n",
      "   [0.00000000e+00 0.00000000e+00 0.00000000e+00]\n",
      "   ...\n",
      "   [0.00000000e+00 0.00000000e+00 0.00000000e+00]\n",
      "   [0.00000000e+00 0.00000000e+00 0.00000000e+00]\n",
      "   [0.00000000e+00 0.00000000e+00 0.00000000e+00]]\n",
      "\n",
      "  ...\n",
      "\n",
      "  [[0.00000000e+00 0.00000000e+00 0.00000000e+00]\n",
      "   [0.00000000e+00 0.00000000e+00 0.00000000e+00]\n",
      "   [0.00000000e+00 0.00000000e+00 0.00000000e+00]\n",
      "   ...\n",
      "   [0.00000000e+00 0.00000000e+00 0.00000000e+00]\n",
      "   [2.20051210e-04 2.20051210e-04 2.20051210e-04]\n",
      "   [5.73360769e-04 5.73360769e-04 5.73360769e-04]]\n",
      "\n",
      "  [[0.00000000e+00 0.00000000e+00 0.00000000e+00]\n",
      "   [0.00000000e+00 0.00000000e+00 0.00000000e+00]\n",
      "   [0.00000000e+00 0.00000000e+00 0.00000000e+00]\n",
      "   ...\n",
      "   [6.01883471e-07 6.01883471e-07 6.01883471e-07]\n",
      "   [1.34596639e-05 1.34596639e-05 1.34596639e-05]\n",
      "   [5.24159259e-05 5.24159259e-05 5.24159259e-05]]\n",
      "\n",
      "  [[0.00000000e+00 0.00000000e+00 0.00000000e+00]\n",
      "   [0.00000000e+00 0.00000000e+00 0.00000000e+00]\n",
      "   [0.00000000e+00 0.00000000e+00 0.00000000e+00]\n",
      "   ...\n",
      "   [0.00000000e+00 0.00000000e+00 0.00000000e+00]\n",
      "   [0.00000000e+00 0.00000000e+00 0.00000000e+00]\n",
      "   [0.00000000e+00 0.00000000e+00 0.00000000e+00]]]\n",
      "\n",
      "\n",
      " [[[0.00000000e+00 0.00000000e+00 0.00000000e+00]\n",
      "   [0.00000000e+00 0.00000000e+00 0.00000000e+00]\n",
      "   [0.00000000e+00 0.00000000e+00 0.00000000e+00]\n",
      "   ...\n",
      "   [0.00000000e+00 0.00000000e+00 0.00000000e+00]\n",
      "   [0.00000000e+00 0.00000000e+00 0.00000000e+00]\n",
      "   [0.00000000e+00 0.00000000e+00 0.00000000e+00]]\n",
      "\n",
      "  [[0.00000000e+00 0.00000000e+00 0.00000000e+00]\n",
      "   [0.00000000e+00 0.00000000e+00 0.00000000e+00]\n",
      "   [0.00000000e+00 0.00000000e+00 0.00000000e+00]\n",
      "   ...\n",
      "   [0.00000000e+00 0.00000000e+00 0.00000000e+00]\n",
      "   [0.00000000e+00 0.00000000e+00 0.00000000e+00]\n",
      "   [0.00000000e+00 0.00000000e+00 0.00000000e+00]]\n",
      "\n",
      "  [[0.00000000e+00 0.00000000e+00 0.00000000e+00]\n",
      "   [0.00000000e+00 0.00000000e+00 0.00000000e+00]\n",
      "   [0.00000000e+00 0.00000000e+00 0.00000000e+00]\n",
      "   ...\n",
      "   [0.00000000e+00 0.00000000e+00 0.00000000e+00]\n",
      "   [0.00000000e+00 0.00000000e+00 0.00000000e+00]\n",
      "   [0.00000000e+00 0.00000000e+00 0.00000000e+00]]\n",
      "\n",
      "  ...\n",
      "\n",
      "  [[0.00000000e+00 0.00000000e+00 0.00000000e+00]\n",
      "   [0.00000000e+00 0.00000000e+00 0.00000000e+00]\n",
      "   [0.00000000e+00 0.00000000e+00 0.00000000e+00]\n",
      "   ...\n",
      "   [0.00000000e+00 0.00000000e+00 0.00000000e+00]\n",
      "   [0.00000000e+00 0.00000000e+00 0.00000000e+00]\n",
      "   [0.00000000e+00 0.00000000e+00 0.00000000e+00]]\n",
      "\n",
      "  [[0.00000000e+00 0.00000000e+00 0.00000000e+00]\n",
      "   [0.00000000e+00 0.00000000e+00 0.00000000e+00]\n",
      "   [0.00000000e+00 0.00000000e+00 0.00000000e+00]\n",
      "   ...\n",
      "   [0.00000000e+00 0.00000000e+00 0.00000000e+00]\n",
      "   [0.00000000e+00 0.00000000e+00 0.00000000e+00]\n",
      "   [0.00000000e+00 0.00000000e+00 0.00000000e+00]]\n",
      "\n",
      "  [[0.00000000e+00 0.00000000e+00 0.00000000e+00]\n",
      "   [0.00000000e+00 0.00000000e+00 0.00000000e+00]\n",
      "   [0.00000000e+00 0.00000000e+00 0.00000000e+00]\n",
      "   ...\n",
      "   [0.00000000e+00 0.00000000e+00 0.00000000e+00]\n",
      "   [0.00000000e+00 0.00000000e+00 0.00000000e+00]\n",
      "   [0.00000000e+00 0.00000000e+00 0.00000000e+00]]]]\n"
     ]
    },
    {
     "data": {
      "text/plain": [
       "(9536, 176, 176, 3)"
      ]
     },
     "execution_count": 64,
     "metadata": {},
     "output_type": "execute_result"
    }
   ],
   "source": [
    "print(train_data_resampled)\n",
    "train_data_resampled.shape"
   ]
  },
  {
   "cell_type": "code",
   "execution_count": null,
   "metadata": {},
   "outputs": [],
   "source": []
  },
  {
   "cell_type": "code",
   "execution_count": 16,
   "metadata": {},
   "outputs": [],
   "source": [
    "# Split the augmented data into train and test sets\n",
    "train_data1, test_data1, train_labels1, test_labels1 = train_test_split(train_data_resampled, train_labels_resampled, test_size=0.2, random_state=42,stratify=train_labels_resampled)\n",
    "# Further split the train set into train and validation sets\n",
    "train_data1, val_data1, train_labels1, val_labels1 = train_test_split(train_data1, train_labels1, test_size=0.2, random_state=42,stratify=train_labels1)\n",
    "\n",
    "## --> Stratify == preserves the class distribution in the train and test split"
   ]
  },
  {
   "cell_type": "code",
   "execution_count": 17,
   "metadata": {},
   "outputs": [],
   "source": [
    "from keras.utils import to_categorical\n",
    "\n",
    "train_labels1 = to_categorical(train_labels1)\n",
    "val_labels1 = to_categorical(val_labels1)"
   ]
  },
  {
   "cell_type": "code",
   "execution_count": 18,
   "metadata": {},
   "outputs": [],
   "source": [
    "def conv_block(filters):\n",
    "    block = tf.keras.Sequential([\n",
    "        tf.keras.layers.SeparableConv2D(filters, 3, activation='relu', padding='same'),\n",
    "        tf.keras.layers.SeparableConv2D(filters, 3, activation='relu', padding='same'),\n",
    "        tf.keras.layers.BatchNormalization(),\n",
    "        tf.keras.layers.MaxPool2D()\n",
    "    ]\n",
    "    )\n",
    "    \n",
    "    return block\n",
    "\n"
   ]
  },
  {
   "cell_type": "code",
   "execution_count": 19,
   "metadata": {},
   "outputs": [],
   "source": [
    "def dense_block(units, dropout_rate):\n",
    "    block = tf.keras.Sequential([\n",
    "        tf.keras.layers.Dense(units, activation='relu'),\n",
    "        tf.keras.layers.BatchNormalization(),\n",
    "        tf.keras.layers.Dropout(dropout_rate)\n",
    "    ])\n",
    "    \n",
    "    return block\n",
    "\n"
   ]
  },
  {
   "cell_type": "code",
   "execution_count": 20,
   "metadata": {},
   "outputs": [],
   "source": [
    "def build_model():\n",
    "    model = tf.keras.Sequential([\n",
    "        tf.keras.Input(shape=(IMAGE_SIZE[0],IMAGE_SIZE[1], 3)),\n",
    "        \n",
    "        tf.keras.layers.Conv2D(16, 3, activation='relu', padding='same'),\n",
    "        tf.keras.layers.Conv2D(16, 3, activation='relu', padding='same'),\n",
    "        tf.keras.layers.MaxPool2D(),\n",
    "        \n",
    "        conv_block(32),\n",
    "        conv_block(64),\n",
    "        \n",
    "        conv_block(128),\n",
    "        tf.keras.layers.Dropout(0.2),\n",
    "        \n",
    "        conv_block(256),\n",
    "        tf.keras.layers.Dropout(0.2),\n",
    "        \n",
    "        tf.keras.layers.Flatten(),\n",
    "        dense_block(512, 0.7),\n",
    "        dense_block(128, 0.5),\n",
    "        dense_block(64, 0.3),\n",
    "        \n",
    "        tf.keras.layers.Dense(4,activation='softmax')\n",
    "    ])\n",
    "    \n",
    "    return model\n",
    "\n"
   ]
  },
  {
   "cell_type": "code",
   "execution_count": 21,
   "metadata": {},
   "outputs": [
    {
     "name": "stdout",
     "output_type": "stream",
     "text": [
      "Model: \"sequential_8\"\n",
      "_________________________________________________________________\n",
      " Layer (type)                Output Shape              Param #   \n",
      "=================================================================\n",
      " conv2d (Conv2D)             (None, 176, 176, 16)      448       \n",
      "                                                                 \n",
      " conv2d_1 (Conv2D)           (None, 176, 176, 16)      2320      \n",
      "                                                                 \n",
      " max_pooling2d (MaxPooling2  (None, 88, 88, 16)        0         \n",
      " D)                                                              \n",
      "                                                                 \n",
      " sequential_1 (Sequential)   (None, 44, 44, 32)        2160      \n",
      "                                                                 \n",
      " sequential_2 (Sequential)   (None, 22, 22, 64)        7392      \n",
      "                                                                 \n",
      " sequential_3 (Sequential)   (None, 11, 11, 128)       27072     \n",
      "                                                                 \n",
      " dropout (Dropout)           (None, 11, 11, 128)       0         \n",
      "                                                                 \n",
      " sequential_4 (Sequential)   (None, 5, 5, 256)         103296    \n",
      "                                                                 \n",
      " dropout_1 (Dropout)         (None, 5, 5, 256)         0         \n",
      "                                                                 \n",
      " flatten (Flatten)           (None, 6400)              0         \n",
      "                                                                 \n",
      " sequential_5 (Sequential)   (None, 512)               3279360   \n",
      "                                                                 \n",
      " sequential_6 (Sequential)   (None, 128)               66176     \n",
      "                                                                 \n",
      " sequential_7 (Sequential)   (None, 64)                8512      \n",
      "                                                                 \n",
      " dense_3 (Dense)             (None, 4)                 260       \n",
      "                                                                 \n",
      "=================================================================\n",
      "Total params: 3496996 (13.34 MB)\n",
      "Trainable params: 3494628 (13.33 MB)\n",
      "Non-trainable params: 2368 (9.25 KB)\n",
      "_________________________________________________________________\n"
     ]
    }
   ],
   "source": [
    "with strategy.scope():\n",
    "    model = build_model()\n",
    "\n",
    "    METRICS = [tf.keras.metrics.AUC(name='auc')]\n",
    "    \n",
    "    model.compile(\n",
    "        optimizer='adam',\n",
    "        loss=tf.losses.CategoricalCrossentropy()\n",
    "        ,\n",
    "        metrics=METRICS\n",
    "    )\n",
    "    \n",
    "    \n",
    "    model.summary()"
   ]
  },
  {
   "cell_type": "code",
   "execution_count": 22,
   "metadata": {},
   "outputs": [],
   "source": [
    "def exponential_decay(lr0, s):\n",
    "    def exponential_decay_fn(epoch):\n",
    "        return lr0 * 0.1 **(epoch / s)\n",
    "    return exponential_decay_fn"
   ]
  },
  {
   "cell_type": "code",
   "execution_count": 23,
   "metadata": {},
   "outputs": [],
   "source": [
    "exponential_decay_fn = exponential_decay(0.01, 20)\n",
    "lr_scheduler = tf.keras.callbacks.LearningRateScheduler(exponential_decay_fn)\n",
    "checkpoint_cb = tf.keras.callbacks.ModelCheckpoint(\"alzheimer_model.h5\",\n",
    "                                                    save_best_only=True)\n",
    "early_stopping_cb = tf.keras.callbacks.EarlyStopping(patience=10,\n",
    "                                                     restore_best_weights=True)\n"
   ]
  },
  {
   "cell_type": "code",
   "execution_count": 25,
   "metadata": {},
   "outputs": [
    {
     "name": "stdout",
     "output_type": "stream",
     "text": [
      "Epoch 1/10\n",
      "191/191 [==============================] - 118s 617ms/step - loss: 1.2076 - auc: 0.7322 - val_loss: 4.9249 - val_auc: 0.5875 - lr: 0.0100\n",
      "Epoch 2/10\n"
     ]
    },
    {
     "name": "stderr",
     "output_type": "stream",
     "text": [
      "C:\\Users\\Prathamesh\\anaconda3\\envs\\tensorflow\\lib\\site-packages\\keras\\src\\engine\\training.py:3000: UserWarning: You are saving your model as an HDF5 file via `model.save()`. This file format is considered legacy. We recommend using instead the native Keras format, e.g. `model.save('my_model.keras')`.\n",
      "  saving_api.save_model(\n"
     ]
    },
    {
     "name": "stdout",
     "output_type": "stream",
     "text": [
      "191/191 [==============================] - 126s 658ms/step - loss: 0.9824 - auc: 0.8291 - val_loss: 39.0807 - val_auc: 0.5570 - lr: 0.0089\n",
      "Epoch 3/10\n",
      "191/191 [==============================] - 129s 673ms/step - loss: 0.8691 - auc: 0.8647 - val_loss: 4.8548 - val_auc: 0.5814 - lr: 0.0079\n",
      "Epoch 4/10\n",
      "191/191 [==============================] - 129s 675ms/step - loss: 0.7836 - auc: 0.8891 - val_loss: 4.8015 - val_auc: 0.5750 - lr: 0.0071\n",
      "Epoch 5/10\n",
      "191/191 [==============================] - 127s 667ms/step - loss: 0.7502 - auc: 0.8971 - val_loss: 3.7137 - val_auc: 0.6168 - lr: 0.0063\n",
      "Epoch 6/10\n",
      "191/191 [==============================] - 128s 671ms/step - loss: 0.7190 - auc: 0.9051 - val_loss: 1.3957 - val_auc: 0.7858 - lr: 0.0056\n",
      "Epoch 7/10\n",
      "191/191 [==============================] - 128s 669ms/step - loss: 0.6903 - auc: 0.9102 - val_loss: 2.6163 - val_auc: 0.7171 - lr: 0.0050\n",
      "Epoch 8/10\n",
      "191/191 [==============================] - 129s 675ms/step - loss: 0.6709 - auc: 0.9163 - val_loss: 1.0378 - val_auc: 0.8796 - lr: 0.0045\n",
      "Epoch 9/10\n",
      "191/191 [==============================] - 128s 670ms/step - loss: 0.6681 - auc: 0.9157 - val_loss: 2.1301 - val_auc: 0.7773 - lr: 0.0040\n",
      "Epoch 10/10\n",
      "191/191 [==============================] - 128s 669ms/step - loss: 0.6393 - auc: 0.9214 - val_loss: 2.0412 - val_auc: 0.7687 - lr: 0.0035\n"
     ]
    }
   ],
   "source": [
    "history = model.fit(train_data1,train_labels1,\n",
    "    validation_data=(val_data1, val_labels1),\n",
    "    callbacks=[checkpoint_cb, early_stopping_cb, lr_scheduler],\n",
    "    epochs=10\n",
    ")"
   ]
  },
  {
   "cell_type": "code",
   "execution_count": 26,
   "metadata": {},
   "outputs": [],
   "source": [
    "import tensorflow as tf\n",
    "from keras.models import load_model"
   ]
  },
  {
   "cell_type": "code",
   "execution_count": 27,
   "metadata": {},
   "outputs": [],
   "source": [
    "model = load_model(\"alzheimer_model.h5\" , compile=False)"
   ]
  },
  {
   "cell_type": "code",
   "execution_count": 28,
   "metadata": {},
   "outputs": [],
   "source": [
    "acc = history.history['auc']\n",
    "val_acc = history.history['val_auc']\n",
    "\n",
    "loss = history.history['loss']\n",
    "val_loss = history.history['val_loss']"
   ]
  },
  {
   "cell_type": "code",
   "execution_count": 29,
   "metadata": {},
   "outputs": [
    {
     "ename": "ValueError",
     "evalue": "x and y must have same first dimension, but have shapes (20,) and (10,)",
     "output_type": "error",
     "traceback": [
      "\u001b[1;31m---------------------------------------------------------------------------\u001b[0m",
      "\u001b[1;31mValueError\u001b[0m                                Traceback (most recent call last)",
      "Cell \u001b[1;32mIn[29], line 5\u001b[0m\n\u001b[0;32m      3\u001b[0m plt\u001b[38;5;241m.\u001b[39mfigure(figsize\u001b[38;5;241m=\u001b[39m(\u001b[38;5;241m15\u001b[39m, \u001b[38;5;241m4\u001b[39m))\n\u001b[0;32m      4\u001b[0m plt\u001b[38;5;241m.\u001b[39msubplot(\u001b[38;5;241m1\u001b[39m, \u001b[38;5;241m2\u001b[39m, \u001b[38;5;241m1\u001b[39m)\n\u001b[1;32m----> 5\u001b[0m \u001b[43mplt\u001b[49m\u001b[38;5;241;43m.\u001b[39;49m\u001b[43mplot\u001b[49m\u001b[43m(\u001b[49m\u001b[38;5;28;43mrange\u001b[39;49m\u001b[43m(\u001b[49m\u001b[43mEPOCHS\u001b[49m\u001b[43m)\u001b[49m\u001b[43m,\u001b[49m\u001b[43m \u001b[49m\u001b[43macc\u001b[49m\u001b[43m,\u001b[49m\u001b[43m \u001b[49m\u001b[43mlabel\u001b[49m\u001b[38;5;241;43m=\u001b[39;49m\u001b[38;5;124;43m'\u001b[39;49m\u001b[38;5;124;43mTraining Accuracy\u001b[39;49m\u001b[38;5;124;43m'\u001b[39;49m\u001b[43m)\u001b[49m\n\u001b[0;32m      6\u001b[0m plt\u001b[38;5;241m.\u001b[39mplot(\u001b[38;5;28mrange\u001b[39m(EPOCHS), val_acc, label\u001b[38;5;241m=\u001b[39m\u001b[38;5;124m'\u001b[39m\u001b[38;5;124mValidation Accuracy\u001b[39m\u001b[38;5;124m'\u001b[39m)\n\u001b[0;32m      7\u001b[0m plt\u001b[38;5;241m.\u001b[39mlegend(loc\u001b[38;5;241m=\u001b[39m\u001b[38;5;124m'\u001b[39m\u001b[38;5;124mlower right\u001b[39m\u001b[38;5;124m'\u001b[39m)\n",
      "File \u001b[1;32m~\\anaconda3\\envs\\tensorflow\\lib\\site-packages\\matplotlib\\pyplot.py:2812\u001b[0m, in \u001b[0;36mplot\u001b[1;34m(scalex, scaley, data, *args, **kwargs)\u001b[0m\n\u001b[0;32m   2810\u001b[0m \u001b[38;5;129m@_copy_docstring_and_deprecators\u001b[39m(Axes\u001b[38;5;241m.\u001b[39mplot)\n\u001b[0;32m   2811\u001b[0m \u001b[38;5;28;01mdef\u001b[39;00m \u001b[38;5;21mplot\u001b[39m(\u001b[38;5;241m*\u001b[39margs, scalex\u001b[38;5;241m=\u001b[39m\u001b[38;5;28;01mTrue\u001b[39;00m, scaley\u001b[38;5;241m=\u001b[39m\u001b[38;5;28;01mTrue\u001b[39;00m, data\u001b[38;5;241m=\u001b[39m\u001b[38;5;28;01mNone\u001b[39;00m, \u001b[38;5;241m*\u001b[39m\u001b[38;5;241m*\u001b[39mkwargs):\n\u001b[1;32m-> 2812\u001b[0m     \u001b[38;5;28;01mreturn\u001b[39;00m \u001b[43mgca\u001b[49m\u001b[43m(\u001b[49m\u001b[43m)\u001b[49m\u001b[38;5;241;43m.\u001b[39;49m\u001b[43mplot\u001b[49m\u001b[43m(\u001b[49m\n\u001b[0;32m   2813\u001b[0m \u001b[43m        \u001b[49m\u001b[38;5;241;43m*\u001b[39;49m\u001b[43margs\u001b[49m\u001b[43m,\u001b[49m\u001b[43m \u001b[49m\u001b[43mscalex\u001b[49m\u001b[38;5;241;43m=\u001b[39;49m\u001b[43mscalex\u001b[49m\u001b[43m,\u001b[49m\u001b[43m \u001b[49m\u001b[43mscaley\u001b[49m\u001b[38;5;241;43m=\u001b[39;49m\u001b[43mscaley\u001b[49m\u001b[43m,\u001b[49m\n\u001b[0;32m   2814\u001b[0m \u001b[43m        \u001b[49m\u001b[38;5;241;43m*\u001b[39;49m\u001b[38;5;241;43m*\u001b[39;49m\u001b[43m(\u001b[49m\u001b[43m{\u001b[49m\u001b[38;5;124;43m\"\u001b[39;49m\u001b[38;5;124;43mdata\u001b[39;49m\u001b[38;5;124;43m\"\u001b[39;49m\u001b[43m:\u001b[49m\u001b[43m \u001b[49m\u001b[43mdata\u001b[49m\u001b[43m}\u001b[49m\u001b[43m \u001b[49m\u001b[38;5;28;43;01mif\u001b[39;49;00m\u001b[43m \u001b[49m\u001b[43mdata\u001b[49m\u001b[43m \u001b[49m\u001b[38;5;129;43;01mis\u001b[39;49;00m\u001b[43m \u001b[49m\u001b[38;5;129;43;01mnot\u001b[39;49;00m\u001b[43m \u001b[49m\u001b[38;5;28;43;01mNone\u001b[39;49;00m\u001b[43m \u001b[49m\u001b[38;5;28;43;01melse\u001b[39;49;00m\u001b[43m \u001b[49m\u001b[43m{\u001b[49m\u001b[43m}\u001b[49m\u001b[43m)\u001b[49m\u001b[43m,\u001b[49m\u001b[43m \u001b[49m\u001b[38;5;241;43m*\u001b[39;49m\u001b[38;5;241;43m*\u001b[39;49m\u001b[43mkwargs\u001b[49m\u001b[43m)\u001b[49m\n",
      "File \u001b[1;32m~\\anaconda3\\envs\\tensorflow\\lib\\site-packages\\matplotlib\\axes\\_axes.py:1688\u001b[0m, in \u001b[0;36mAxes.plot\u001b[1;34m(self, scalex, scaley, data, *args, **kwargs)\u001b[0m\n\u001b[0;32m   1445\u001b[0m \u001b[38;5;250m\u001b[39m\u001b[38;5;124;03m\"\"\"\u001b[39;00m\n\u001b[0;32m   1446\u001b[0m \u001b[38;5;124;03mPlot y versus x as lines and/or markers.\u001b[39;00m\n\u001b[0;32m   1447\u001b[0m \n\u001b[1;32m   (...)\u001b[0m\n\u001b[0;32m   1685\u001b[0m \u001b[38;5;124;03m(``'green'``) or hex strings (``'#008000'``).\u001b[39;00m\n\u001b[0;32m   1686\u001b[0m \u001b[38;5;124;03m\"\"\"\u001b[39;00m\n\u001b[0;32m   1687\u001b[0m kwargs \u001b[38;5;241m=\u001b[39m cbook\u001b[38;5;241m.\u001b[39mnormalize_kwargs(kwargs, mlines\u001b[38;5;241m.\u001b[39mLine2D)\n\u001b[1;32m-> 1688\u001b[0m lines \u001b[38;5;241m=\u001b[39m [\u001b[38;5;241m*\u001b[39m\u001b[38;5;28mself\u001b[39m\u001b[38;5;241m.\u001b[39m_get_lines(\u001b[38;5;241m*\u001b[39margs, data\u001b[38;5;241m=\u001b[39mdata, \u001b[38;5;241m*\u001b[39m\u001b[38;5;241m*\u001b[39mkwargs)]\n\u001b[0;32m   1689\u001b[0m \u001b[38;5;28;01mfor\u001b[39;00m line \u001b[38;5;129;01min\u001b[39;00m lines:\n\u001b[0;32m   1690\u001b[0m     \u001b[38;5;28mself\u001b[39m\u001b[38;5;241m.\u001b[39madd_line(line)\n",
      "File \u001b[1;32m~\\anaconda3\\envs\\tensorflow\\lib\\site-packages\\matplotlib\\axes\\_base.py:311\u001b[0m, in \u001b[0;36m_process_plot_var_args.__call__\u001b[1;34m(self, data, *args, **kwargs)\u001b[0m\n\u001b[0;32m    309\u001b[0m     this \u001b[38;5;241m+\u001b[39m\u001b[38;5;241m=\u001b[39m args[\u001b[38;5;241m0\u001b[39m],\n\u001b[0;32m    310\u001b[0m     args \u001b[38;5;241m=\u001b[39m args[\u001b[38;5;241m1\u001b[39m:]\n\u001b[1;32m--> 311\u001b[0m \u001b[38;5;28;01myield from\u001b[39;00m \u001b[38;5;28;43mself\u001b[39;49m\u001b[38;5;241;43m.\u001b[39;49m\u001b[43m_plot_args\u001b[49m\u001b[43m(\u001b[49m\n\u001b[0;32m    312\u001b[0m \u001b[43m    \u001b[49m\u001b[43mthis\u001b[49m\u001b[43m,\u001b[49m\u001b[43m \u001b[49m\u001b[43mkwargs\u001b[49m\u001b[43m,\u001b[49m\u001b[43m \u001b[49m\u001b[43mambiguous_fmt_datakey\u001b[49m\u001b[38;5;241;43m=\u001b[39;49m\u001b[43mambiguous_fmt_datakey\u001b[49m\u001b[43m)\u001b[49m\n",
      "File \u001b[1;32m~\\anaconda3\\envs\\tensorflow\\lib\\site-packages\\matplotlib\\axes\\_base.py:504\u001b[0m, in \u001b[0;36m_process_plot_var_args._plot_args\u001b[1;34m(self, tup, kwargs, return_kwargs, ambiguous_fmt_datakey)\u001b[0m\n\u001b[0;32m    501\u001b[0m     \u001b[38;5;28mself\u001b[39m\u001b[38;5;241m.\u001b[39maxes\u001b[38;5;241m.\u001b[39myaxis\u001b[38;5;241m.\u001b[39mupdate_units(y)\n\u001b[0;32m    503\u001b[0m \u001b[38;5;28;01mif\u001b[39;00m x\u001b[38;5;241m.\u001b[39mshape[\u001b[38;5;241m0\u001b[39m] \u001b[38;5;241m!=\u001b[39m y\u001b[38;5;241m.\u001b[39mshape[\u001b[38;5;241m0\u001b[39m]:\n\u001b[1;32m--> 504\u001b[0m     \u001b[38;5;28;01mraise\u001b[39;00m \u001b[38;5;167;01mValueError\u001b[39;00m(\u001b[38;5;124mf\u001b[39m\u001b[38;5;124m\"\u001b[39m\u001b[38;5;124mx and y must have same first dimension, but \u001b[39m\u001b[38;5;124m\"\u001b[39m\n\u001b[0;32m    505\u001b[0m                      \u001b[38;5;124mf\u001b[39m\u001b[38;5;124m\"\u001b[39m\u001b[38;5;124mhave shapes \u001b[39m\u001b[38;5;132;01m{\u001b[39;00mx\u001b[38;5;241m.\u001b[39mshape\u001b[38;5;132;01m}\u001b[39;00m\u001b[38;5;124m and \u001b[39m\u001b[38;5;132;01m{\u001b[39;00my\u001b[38;5;241m.\u001b[39mshape\u001b[38;5;132;01m}\u001b[39;00m\u001b[38;5;124m\"\u001b[39m)\n\u001b[0;32m    506\u001b[0m \u001b[38;5;28;01mif\u001b[39;00m x\u001b[38;5;241m.\u001b[39mndim \u001b[38;5;241m>\u001b[39m \u001b[38;5;241m2\u001b[39m \u001b[38;5;129;01mor\u001b[39;00m y\u001b[38;5;241m.\u001b[39mndim \u001b[38;5;241m>\u001b[39m \u001b[38;5;241m2\u001b[39m:\n\u001b[0;32m    507\u001b[0m     \u001b[38;5;28;01mraise\u001b[39;00m \u001b[38;5;167;01mValueError\u001b[39;00m(\u001b[38;5;124mf\u001b[39m\u001b[38;5;124m\"\u001b[39m\u001b[38;5;124mx and y can be no greater than 2D, but have \u001b[39m\u001b[38;5;124m\"\u001b[39m\n\u001b[0;32m    508\u001b[0m                      \u001b[38;5;124mf\u001b[39m\u001b[38;5;124m\"\u001b[39m\u001b[38;5;124mshapes \u001b[39m\u001b[38;5;132;01m{\u001b[39;00mx\u001b[38;5;241m.\u001b[39mshape\u001b[38;5;132;01m}\u001b[39;00m\u001b[38;5;124m and \u001b[39m\u001b[38;5;132;01m{\u001b[39;00my\u001b[38;5;241m.\u001b[39mshape\u001b[38;5;132;01m}\u001b[39;00m\u001b[38;5;124m\"\u001b[39m)\n",
      "\u001b[1;31mValueError\u001b[0m: x and y must have same first dimension, but have shapes (20,) and (10,)"
     ]
    },
    {
     "data": {
      "image/png": "[encoded data removed]",
      "text/plain": [
       "<Figure size 1500x400 with 1 Axes>"
      ]
     },
     "metadata": {},
     "output_type": "display_data"
    }
   ],
   "source": [
    "import matplotlib.pyplot as plt\n",
    "EPOCHS = 20\n",
    "plt.figure(figsize=(15, 4))\n",
    "plt.subplot(1, 2, 1)\n",
    "plt.plot(range(EPOCHS), acc, label='Training Accuracy')\n",
    "plt.plot(range(EPOCHS), val_acc, label='Validation Accuracy')\n",
    "plt.legend(loc='lower right')\n",
    "plt.title('Training and Validation Accuracy')\n",
    "\n",
    "plt.subplot(1, 2, 2)\n",
    "plt.plot(range(EPOCHS), loss, label='Training Loss')\n",
    "plt.plot(range(EPOCHS), val_loss, label='Validation Loss')\n",
    "plt.legend(loc='upper right')\n",
    "plt.title('Training and Validation Loss')\n",
    "plt.show()"
   ]
  },
  {
   "cell_type": "code",
   "execution_count": 79,
   "metadata": {},
   "outputs": [
    {
     "data": {
      "image/png": "[encoded data removed]",
      "text/plain": [
       "<PIL.Image.Image image mode=RGBA size=974x939>"
      ]
     },
     "execution_count": 79,
     "metadata": {},
     "output_type": "execute_result"
    }
   ],
   "source": [
    "import visualkeras\n",
    "visualkeras.layered_view(model).show() # display using your system viewer\n",
    "visualkeras.layered_view(model, to_file='output.png') # write to disk\n",
    "visualkeras.layered_view(model, to_file='output.png').show() # write and show\n",
    "\n",
    "visualkeras.layered_view(model)"
   ]
  },
  {
   "cell_type": "code",
   "execution_count": null,
   "metadata": {},
   "outputs": [],
   "source": []
  }
 ],
 "metadata": {
  "kernelspec": {
   "display_name": "Python 3 (ipykernel)",
   "language": "python",
   "name": "python3"
  },
  "language_info": {
   "codemirror_mode": {
    "name": "ipython",
    "version": 3
   },
   "file_extension": ".py",
   "mimetype": "text/x-python",
   "name": "python",
   "nbconvert_exporter": "python",
   "pygments_lexer": "ipython3",
   "version": "3.8.18"
  }
 },
 "nbformat": 4,
 "nbformat_minor": 4
}
